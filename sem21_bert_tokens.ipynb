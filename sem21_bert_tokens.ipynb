{
  "nbformat": 4,
  "nbformat_minor": 0,
  "metadata": {
    "colab": {
      "name": "sem21_bert_tokens",
      "provenance": [],
      "collapsed_sections": [
        "rBdsovrNYWZa",
        "SY7idpsFZIVn",
        "oWDIY1TWZQIS",
        "KubRqWRKYfSY",
        "B9Z2jWCpfwsH",
        "1PBEVwUSko9x"
      ],
      "toc_visible": true,
      "authorship_tag": "ABX9TyNHUj/Vf+rcMP/bXMR3Vngx",
      "include_colab_link": true
    },
    "kernelspec": {
      "name": "python3",
      "display_name": "Python 3"
    },
    "accelerator": "GPU"
  },
  "cells": [
    {
      "cell_type": "markdown",
      "metadata": {
        "id": "view-in-github",
        "colab_type": "text"
      },
      "source": [
        "<a href=\"https://colab.research.google.com/github/morozowdmitry/semeval21/blob/master/sem21_bert_tokens.ipynb\" target=\"_parent\"><img src=\"https://colab.research.google.com/assets/colab-badge.svg\" alt=\"Open In Colab\"/></a>"
      ]
    },
    {
      "cell_type": "code",
      "metadata": {
        "id": "I-DUR1eYXFSg"
      },
      "source": [
        "from google.colab import drive\n",
        "drive.mount('/content/drive')"
      ],
      "execution_count": null,
      "outputs": []
    },
    {
      "cell_type": "markdown",
      "metadata": {
        "id": "rBdsovrNYWZa"
      },
      "source": [
        "#import libs"
      ]
    },
    {
      "cell_type": "code",
      "metadata": {
        "id": "dlmvhIjnYU7Y"
      },
      "source": [
        "import ast\n",
        "import csv\n",
        "import random\n",
        "import statistics\n",
        "import sys\n",
        "import string\n",
        "import sklearn\n",
        "import itertools"
      ],
      "execution_count": null,
      "outputs": []
    },
    {
      "cell_type": "code",
      "metadata": {
        "id": "JetXuWtEfy7G"
      },
      "source": [
        "import torch\n",
        "from torch.utils.data import TensorDataset, DataLoader, RandomSampler, SequentialSampler\n",
        "!pip install transformers\n",
        "import transformers\n",
        "from transformers import BertTokenizer, BertConfig\n",
        "from keras.preprocessing.sequence import pad_sequences\n",
        "from sklearn.model_selection import train_test_split\n",
        "\n",
        "device = torch.device(\"cuda\" if torch.cuda.is_available() else \"cpu\")\n",
        "n_gpu = torch.cuda.device_count()\n",
        "torch.cuda.get_device_name(0)"
      ],
      "execution_count": null,
      "outputs": []
    },
    {
      "cell_type": "markdown",
      "metadata": {
        "id": "SY7idpsFZIVn"
      },
      "source": [
        "#fix spans"
      ]
    },
    {
      "cell_type": "code",
      "metadata": {
        "id": "L5K-6hCdZHuZ"
      },
      "source": [
        "SPECIAL_CHARACTERS = string.whitespace\n",
        "\n",
        "def _contiguous_ranges(span_list):\n",
        "    \"\"\"Extracts continguous runs [1, 2, 3, 5, 6, 7] -> [(1,3), (5,7)].\"\"\"\n",
        "    output = []\n",
        "    for _, span in itertools.groupby(\n",
        "        enumerate(span_list), lambda p: p[1] - p[0]):\n",
        "        span = list(span)\n",
        "        output.append((span[0][1], span[-1][1]))\n",
        "    return output\n",
        "\n",
        "\n",
        "def fix_spans(spans, text, special_characters=SPECIAL_CHARACTERS):\n",
        "    \"\"\"Applies minor edits to trim spans and remove singletons.\"\"\"\n",
        "    cleaned = []\n",
        "    for begin, end in _contiguous_ranges(spans):\n",
        "        while text[begin] in special_characters and begin < end:\n",
        "            begin += 1\n",
        "        while text[end] in special_characters and begin < end:\n",
        "            end -= 1\n",
        "        if end - begin > 1:\n",
        "            cleaned.extend(range(begin, end + 1))\n",
        "    return cleaned"
      ],
      "execution_count": null,
      "outputs": []
    },
    {
      "cell_type": "markdown",
      "metadata": {
        "id": "oWDIY1TWZQIS"
      },
      "source": [
        "#f1"
      ]
    },
    {
      "cell_type": "code",
      "metadata": {
        "id": "PAxZ4LkoZaU7"
      },
      "source": [
        "def f1(predictions, gold):\n",
        "    \"\"\"\n",
        "    F1 (a.k.a. DICE) operating on two lists of offsets (e.g., character).\n",
        "    >>> assert f1([0, 1, 4, 5], [0, 1, 6]) == 0.5714285714285714\n",
        "    :param predictions: a list of predicted offsets\n",
        "    :param gold: a list of offsets serving as the ground truth\n",
        "    :return: a score between 0 and 1\n",
        "    \"\"\"\n",
        "    if len(gold) == 0:\n",
        "        return 1. if len(predictions) == 0 else 0.\n",
        "    if len(predictions) == 0:\n",
        "        return 0.\n",
        "    predictions_set = set(predictions)\n",
        "    gold_set = set(gold)\n",
        "    nom = 2 * len(predictions_set.intersection(gold_set))\n",
        "    denom = len(predictions_set) + len(gold_set)\n",
        "    return float(nom)/float(denom)\n"
      ],
      "execution_count": null,
      "outputs": []
    },
    {
      "cell_type": "code",
      "metadata": {
        "id": "9_DExksSOxQa"
      },
      "source": [
        ""
      ],
      "execution_count": null,
      "outputs": []
    },
    {
      "cell_type": "markdown",
      "metadata": {
        "id": "KubRqWRKYfSY"
      },
      "source": [
        "#import data"
      ]
    },
    {
      "cell_type": "code",
      "metadata": {
        "id": "4K43KA12XwlM"
      },
      "source": [
        "def spans_to_ents(doc, spans, label):\n",
        "  \"\"\"Converts span indicies into spacy entity labels.\"\"\"\n",
        "  started = False\n",
        "  left, right, ents = 0, 0, []\n",
        "  for x in doc:\n",
        "    if x.pos_ == 'SPACE':\n",
        "      continue\n",
        "    if spans.intersection(set(range(x.idx, x.idx + len(x.text)))):\n",
        "      if not started:\n",
        "        left, started = x.idx, True\n",
        "      right = x.idx + len(x.text)\n",
        "    elif started:\n",
        "      ents.append((left, right, label))\n",
        "      started = False\n",
        "  if started:\n",
        "    ents.append((left, right, label))\n",
        "  return ents\n",
        "\n",
        "\n",
        "def read_datafile(filename):\n",
        "  \"\"\"Reads csv file with python span list and text.\"\"\"\n",
        "  data = []\n",
        "  with open(filename) as csvfile:\n",
        "    reader = csv.DictReader(csvfile)\n",
        "    count = 0\n",
        "    for row in reader:\n",
        "      fixed = fix_spans(\n",
        "          ast.literal_eval(row['spans']), row['text'])\n",
        "      data.append((fixed, row['text']))\n",
        "  return data"
      ],
      "execution_count": null,
      "outputs": []
    },
    {
      "cell_type": "code",
      "metadata": {
        "id": "m_S8CGsdYj7x"
      },
      "source": [
        "print('loading training data')\n",
        "train = read_datafile('/content/drive/My Drive/semeval21/tsd_train.csv')\n",
        "print('loading test data')\n",
        "test = read_datafile('/content/drive/My Drive/semeval21/tsd_trial.csv')"
      ],
      "execution_count": null,
      "outputs": []
    },
    {
      "cell_type": "code",
      "metadata": {
        "id": "DupQ4mIIbmyU"
      },
      "source": [
        "train_labels = []\n",
        "train_texts = []\n",
        "\n",
        "for i, elem in enumerate(train):\n",
        "  #if elem[0]!=[]:\n",
        "    words = elem[1].split()\n",
        "    num = 0\n",
        "    labels = []\n",
        "    for word in words:\n",
        "      if num in set(elem[0]):\n",
        "        num+=(len(word)+1)\n",
        "        labels.append('TOXIC')\n",
        "      else:\n",
        "        num+=(len(word)+1)\n",
        "        labels.append('norm')\n",
        "    train_labels.append(labels)\n",
        "    train_texts.append(words)\n",
        "print(len(train_labels))\n",
        "\n",
        "test_labels = []\n",
        "test_texts = []\n",
        "test_spans = []\n",
        "for i, elem in enumerate(test):\n",
        "    words = elem[1].split()\n",
        "    #print(words)\n",
        "    num = 0\n",
        "    labels = []\n",
        "    span = []\n",
        "    temp_str = elem[1]\n",
        "    for word in words:\n",
        "      pos = temp_str.find(word)\n",
        "      span.append([num + pos, num+pos+len(word.translate(str.maketrans('', '', string.punctuation)))-1])\n",
        "      temp_str = temp_str[pos+len(word.translate(str.maketrans('', '', string.punctuation)))-1:]\n",
        "      num+=pos+len(word.translate(str.maketrans('', '', string.punctuation)))-1\n",
        "      if num in set(elem[0]):\n",
        "        #num+=(len(word)+1)\n",
        "        labels.append('TOXIC')\n",
        "      else:\n",
        "        #num+=(len(word)+1)\n",
        "        labels.append('norm')\n",
        "    test_labels.append(labels) \n",
        "    test_texts.append(words)\n",
        "    test_spans.append(span)"
      ],
      "execution_count": null,
      "outputs": []
    },
    {
      "cell_type": "code",
      "metadata": {
        "id": "gW4JiJkeC_WG"
      },
      "source": [
        "for i in range(len(test_spans[40])):\n",
        "  print(test_texts[40][i], test_spans[40][i], test_labels[40][i])"
      ],
      "execution_count": null,
      "outputs": []
    },
    {
      "cell_type": "code",
      "metadata": {
        "id": "4gmi-xvng803"
      },
      "source": [
        "new_train_texts = []\n",
        "new_test_texts = []\n",
        "new_test_spans = []\n",
        "\n",
        "import string\n",
        "\n",
        "def letter_digit(text):\n",
        "  k = False\n",
        "  for t in text:\n",
        "    if t.isdigit() or t.isalpha():\n",
        "      k=True\n",
        "      break\n",
        "  return k\n",
        "\n",
        "def clean(text):\n",
        "  new_text = ''\n",
        "  for t in text:\n",
        "    if t.isalpha() or t.isdigit():\n",
        "      new_text+=t\n",
        "  return new_text\n",
        "\n",
        "for text in train_texts:\n",
        "  words = []\n",
        "  for word in text:\n",
        "    word = word.replace('\\r\\n','')\n",
        "    word = word.replace('\\n','')\n",
        "    pos = word.find('\\'')\n",
        "    if pos>-1:\n",
        "      word = word[:pos]\n",
        "    word = clean(word)\n",
        "    if letter_digit(word):\n",
        "      words.append(word.lower())\n",
        "  new_train_texts.append(words)\n",
        "\n",
        "for j, text in enumerate(test_texts):\n",
        "  words = []\n",
        "  span = []\n",
        "  for i, word in enumerate(text):\n",
        "    word = word.replace('\\r\\n','')\n",
        "    word = word.replace('\\n','')\n",
        "    pos = word.find('\\'')\n",
        "    if pos>0:\n",
        "      word = word[:pos]\n",
        "    else:\n",
        "      word = word.replace('\\'','')\n",
        "    word = clean(word)\n",
        "    if letter_digit(word):\n",
        "      words.append(word.lower())\n",
        "      span.append(test_spans[j][i])\n",
        "  new_test_texts.append(words)\n",
        "  new_test_spans.append(span)"
      ],
      "execution_count": null,
      "outputs": []
    },
    {
      "cell_type": "code",
      "metadata": {
        "id": "4Ohs4hakvRRR"
      },
      "source": [
        "new_test_spans[2]"
      ],
      "execution_count": null,
      "outputs": []
    },
    {
      "cell_type": "markdown",
      "metadata": {
        "id": "B9Z2jWCpfwsH"
      },
      "source": [
        "#model"
      ]
    },
    {
      "cell_type": "code",
      "metadata": {
        "id": "JgdBVPiNgEzu"
      },
      "source": [
        "MAX_LEN = 100\n",
        "bs = 8\n",
        "RANDOM_STATE = 42"
      ],
      "execution_count": null,
      "outputs": []
    },
    {
      "cell_type": "code",
      "metadata": {
        "id": "1x_AYRQngmSe"
      },
      "source": [
        "tokenizer = BertTokenizer.from_pretrained('bert-large-uncased', do_lower_case=True)\n",
        "#tokenizer = RobertaTokenizer.from_pretrained('roberta-large', do_lower_case = True)"
      ],
      "execution_count": null,
      "outputs": []
    },
    {
      "cell_type": "code",
      "metadata": {
        "id": "imku5ZUCg_rK"
      },
      "source": [
        "def tokenize_and_preserve_labels(texts, labels):\n",
        "    tokenized_sentence = ['[CLS]']\n",
        "    labels_ = ['norm']\n",
        "\n",
        "    for i in range(len(texts)):\n",
        "\n",
        "        # Tokenize the word and count # of subwords the word is broken into\n",
        "        tokenized_word = tokenizer.tokenize(texts[i])\n",
        "        n_subwords = len(tokenized_word)\n",
        "\n",
        "        # Add the tokenized word to the final tokenized word list\n",
        "        tokenized_sentence.extend(tokenized_word)\n",
        "\n",
        "        # Add the same label to the new list of labels `n_subwords` times\n",
        "        labels_.extend([labels[i]] * n_subwords)\n",
        "\n",
        "    tokenized_sentence.append('[SEP]')\n",
        "    labels_.append('norm')\n",
        "    return tokenized_sentence, labels_"
      ],
      "execution_count": null,
      "outputs": []
    },
    {
      "cell_type": "code",
      "metadata": {
        "id": "mK5YNfnwh5l4"
      },
      "source": [
        "tokenized_train_texts = []\n",
        "tokenized_train_labels = []\n",
        "\n",
        "for i in range(len(train_texts)):\n",
        "  text, label = tokenize_and_preserve_labels(new_train_texts[i], train_labels[i])\n",
        "  tokenized_train_texts.append(text)\n",
        "  tokenized_train_labels.append(label)\n",
        "\n",
        "tokenized_test_texts = []\n",
        "tokenized_test_labels = []\n",
        "\n",
        "for i in range(len(test_texts)):\n",
        "  text, label = tokenize_and_preserve_labels(new_test_texts[i], test_labels[i])\n",
        "  tokenized_test_texts.append(text)\n",
        "  tokenized_test_labels.append(label)"
      ],
      "execution_count": null,
      "outputs": []
    },
    {
      "cell_type": "code",
      "metadata": {
        "id": "Ikj8AdQPiyqT"
      },
      "source": [
        "input_ids = pad_sequences([tokenizer.convert_tokens_to_ids(txt) for txt in tokenized_train_texts],\n",
        "                          maxlen=MAX_LEN, dtype=\"long\", value=0.0,\n",
        "                          truncating=\"post\", padding=\"post\")\n",
        "\n",
        "tag_values = [\"TOXIC\", \"norm\"]\n",
        "tag_values.append(\"PAD\")\n",
        "tag2idx = {t: i for i, t in enumerate(tag_values)}\n",
        "\n",
        "tags = pad_sequences([[tag2idx.get(l) for l in lab] for lab in tokenized_train_labels],\n",
        "                     maxlen=MAX_LEN, value=tag2idx[\"PAD\"], padding=\"post\",\n",
        "                     dtype=\"long\", truncating=\"post\")"
      ],
      "execution_count": null,
      "outputs": []
    },
    {
      "cell_type": "code",
      "metadata": {
        "id": "IXEwyec9ycYx"
      },
      "source": [
        " tokens = tokenizer.convert_ids_to_tokens(input_ids[3])\n",
        " print(tokens)"
      ],
      "execution_count": null,
      "outputs": []
    },
    {
      "cell_type": "code",
      "metadata": {
        "id": "QRWKY8dTjxl7"
      },
      "source": [
        "attention_masks = [[float(i != 0.0) for i in ii] for ii in input_ids]"
      ],
      "execution_count": null,
      "outputs": []
    },
    {
      "cell_type": "code",
      "metadata": {
        "id": "7y5rgzNTj2lA"
      },
      "source": [
        "tr_inputs, val_inputs, tr_tags, val_tags = train_test_split(input_ids, tags,\n",
        "                                                            random_state=RANDOM_STATE, test_size=0.1)\n",
        "tr_masks, val_masks, _, _ = train_test_split(attention_masks, input_ids,\n",
        "                                             random_state=RANDOM_STATE, test_size=0.1)"
      ],
      "execution_count": null,
      "outputs": []
    },
    {
      "cell_type": "code",
      "metadata": {
        "id": "Istvc34wj68f"
      },
      "source": [
        "tr_inputs = torch.tensor(tr_inputs)\n",
        "val_inputs = torch.tensor(val_inputs)\n",
        "tr_tags = torch.tensor(tr_tags)\n",
        "val_tags = torch.tensor(val_tags)\n",
        "tr_masks = torch.tensor(tr_masks)\n",
        "val_masks = torch.tensor(val_masks)"
      ],
      "execution_count": null,
      "outputs": []
    },
    {
      "cell_type": "code",
      "metadata": {
        "id": "GYjqEatMj8d9"
      },
      "source": [
        "train_data = TensorDataset(tr_inputs, tr_masks, tr_tags)\n",
        "train_sampler = RandomSampler(train_data)\n",
        "train_dataloader = DataLoader(train_data, sampler=train_sampler, batch_size=bs)\n",
        "\n",
        "valid_data = TensorDataset(val_inputs, val_masks, val_tags)\n",
        "valid_sampler = SequentialSampler(valid_data)\n",
        "valid_dataloader = DataLoader(valid_data, sampler=valid_sampler, batch_size=bs)"
      ],
      "execution_count": null,
      "outputs": []
    },
    {
      "cell_type": "code",
      "metadata": {
        "id": "GWZfwjdRkAM1"
      },
      "source": [
        "import transformers\n",
        "from transformers import BertForTokenClassification, AdamW\n",
        "\n",
        "transformers.__version__"
      ],
      "execution_count": null,
      "outputs": []
    },
    {
      "cell_type": "code",
      "metadata": {
        "id": "pdpqKOQKkECc"
      },
      "source": [
        "model = BertForTokenClassification.from_pretrained(\n",
        "    \"bert-large-uncased\",\n",
        "    num_labels=len(tag2idx),\n",
        "    output_attentions = False,\n",
        "    output_hidden_states = False\n",
        ")\n",
        "'''\n",
        "model = RobertaForTokenClassification.from_pretrained(\n",
        "    \"roberta-large\",\n",
        "    num_labels=len(tag2idx),\n",
        "    output_attentions = False,\n",
        "    output_hidden_states = False\n",
        ")\n",
        "'''"
      ],
      "execution_count": null,
      "outputs": []
    },
    {
      "cell_type": "code",
      "metadata": {
        "id": "qSpivfjXkIhT"
      },
      "source": [
        "model.cuda();"
      ],
      "execution_count": null,
      "outputs": []
    },
    {
      "cell_type": "code",
      "metadata": {
        "id": "J9-YTbDbkPbV"
      },
      "source": [
        "FULL_FINETUNING = True\n",
        "if FULL_FINETUNING:\n",
        "    param_optimizer = list(model.named_parameters())\n",
        "    no_decay = ['bias', 'gamma', 'beta']\n",
        "    optimizer_grouped_parameters = [\n",
        "        {'params': [p for n, p in param_optimizer if not any(nd in n for nd in no_decay)],\n",
        "         'weight_decay_rate': 0.001},\n",
        "        {'params': [p for n, p in param_optimizer if any(nd in n for nd in no_decay)],\n",
        "         'weight_decay_rate': 0.001}\n",
        "    ]\n",
        "else:\n",
        "    param_optimizer = list(model.classifier.named_parameters())\n",
        "    optimizer_grouped_parameters = [{\"params\": [p for n, p in param_optimizer]}]\n",
        "\n",
        "optimizer = AdamW(\n",
        "    optimizer_grouped_parameters,\n",
        "    lr=3e-5,\n",
        "    eps=1e-8\n",
        ")"
      ],
      "execution_count": null,
      "outputs": []
    },
    {
      "cell_type": "code",
      "metadata": {
        "id": "yHSOxvZ-kSpJ"
      },
      "source": [
        "from transformers import get_linear_schedule_with_warmup\n",
        "\n",
        "epochs = 2\n",
        "max_grad_norm = 1.0\n",
        "\n",
        "# Total number of training steps is number of batches * number of epochs.\n",
        "total_steps = len(train_dataloader) * epochs\n",
        "\n",
        "# Create the learning rate scheduler.\n",
        "scheduler = get_linear_schedule_with_warmup(\n",
        "    optimizer,\n",
        "    num_warmup_steps=0,\n",
        "    num_training_steps=total_steps\n",
        ")"
      ],
      "execution_count": null,
      "outputs": []
    },
    {
      "cell_type": "code",
      "metadata": {
        "id": "Dp8xbaWpkW_O"
      },
      "source": [
        "!pip install seqeval\n",
        "import seqeval\n",
        "from seqeval.metrics import accuracy_score"
      ],
      "execution_count": null,
      "outputs": []
    },
    {
      "cell_type": "code",
      "metadata": {
        "id": "XLZpL6oVkaw-"
      },
      "source": [
        "## Store the average loss after each epoch so we can plot them.\n",
        "loss_values, validation_loss_values = [], []\n",
        "!pip install tqdm\n",
        "import tqdm\n",
        "import numpy as np\n",
        "\n",
        "# Set the seed value all over the place to make this reproducible.\n",
        "seed_val = RANDOM_STATE\n",
        "\n",
        "random.seed(seed_val)\n",
        "np.random.seed(seed_val)\n",
        "torch.manual_seed(seed_val)\n",
        "torch.cuda.manual_seed_all(seed_val)\n",
        "\n",
        "for _ in tqdm.trange(epochs, desc=\"Epoch\"):\n",
        "    # ========================================\n",
        "    #               Training\n",
        "    # ========================================\n",
        "    # Perform one full pass over the training set.\n",
        "\n",
        "    # Put the model into training mode.\n",
        "    model.train()\n",
        "    # Reset the total loss for this epoch.\n",
        "    total_loss = 0\n",
        "\n",
        "    # Training loop\n",
        "    for step, batch in enumerate(train_dataloader):\n",
        "        # add batch to gpu\n",
        "        batch = tuple(t.to(device) for t in batch)\n",
        "        b_input_ids, b_input_mask, b_labels = batch\n",
        "        # Always clear any previously calculated gradients before performing a backward pass.\n",
        "        model.zero_grad()\n",
        "        # forward pass\n",
        "        # This will return the loss (rather than the model output)\n",
        "        # because we have provided the `labels`.\n",
        "        outputs = model(b_input_ids, token_type_ids=None,\n",
        "                        attention_mask=b_input_mask, labels=b_labels)\n",
        "        # get the loss\n",
        "        loss = outputs[0]\n",
        "        # Perform a backward pass to calculate the gradients.\n",
        "        loss.backward()\n",
        "        # track train loss\n",
        "        total_loss += loss.item()\n",
        "        # Clip the norm of the gradient\n",
        "        # This is to help prevent the \"exploding gradients\" problem.\n",
        "        torch.nn.utils.clip_grad_norm_(parameters=model.parameters(), max_norm=max_grad_norm)\n",
        "        # update parameters\n",
        "        optimizer.step()\n",
        "        # Update the learning rate.\n",
        "        scheduler.step()\n",
        "\n",
        "    # Calculate the average loss over the training data.\n",
        "    avg_train_loss = total_loss / len(train_dataloader)\n",
        "    print(\"Average train loss: {}\".format(avg_train_loss))\n",
        "\n",
        "    # Store the loss value for plotting the learning curve.\n",
        "    loss_values.append(avg_train_loss)\n",
        "\n",
        "\n",
        "    # ========================================\n",
        "    #               Validation\n",
        "    # ========================================\n",
        "    # After the completion of each training epoch, measure our performance on\n",
        "    # our validation set.\n",
        "\n",
        "    # Put the model into evaluation mode\n",
        "    model.eval()\n",
        "    # Reset the validation loss for this epoch.\n",
        "    eval_loss, eval_accuracy = 0, 0\n",
        "    nb_eval_steps, nb_eval_examples = 0, 0\n",
        "    predictions , true_labels = [], []\n",
        "    for batch in valid_dataloader:\n",
        "        batch = tuple(t.to(device) for t in batch)\n",
        "        b_input_ids, b_input_mask, b_labels = batch\n",
        "\n",
        "        # Telling the model not to compute or store gradients,\n",
        "        # saving memory and speeding up validation\n",
        "        with torch.no_grad():\n",
        "            # Forward pass, calculate logit predictions.\n",
        "            # This will return the logits rather than the loss because we have not provided labels.\n",
        "            outputs = model(b_input_ids, token_type_ids=None,\n",
        "                            attention_mask=b_input_mask, labels=b_labels)\n",
        "        # Move logits and labels to CPU\n",
        "        logits = outputs[1].detach().cpu().numpy()\n",
        "        label_ids = b_labels.to('cpu').numpy()\n",
        "\n",
        "        # Calculate the accuracy for this batch of test sentences.\n",
        "        eval_loss += outputs[0].mean().item()\n",
        "        predictions.extend([list(p) for p in np.argmax(logits, axis=2)])\n",
        "        true_labels.extend(label_ids)\n",
        "\n",
        "    eval_loss = eval_loss / len(valid_dataloader)\n",
        "    validation_loss_values.append(eval_loss)\n",
        "    print(\"Validation loss: {}\".format(eval_loss))\n",
        "    pred_tags = [tag_values[p_i] for p, l in zip(predictions, true_labels) for p_i, l_i in zip(p, l) if tag_values[l_i] != \"PAD\"]\n",
        "    valid_tags = [tag_values[l_i] for l in true_labels for l_i in l if tag_values[l_i] != \"PAD\"]\n",
        "    print(\"Validation Accuracy: {}\".format(accuracy_score(pred_tags, valid_tags)))\n",
        "    #print(\"Validation F1-Score: {}\".format(f1_score(pred_tags, valid_tags)))\n",
        "    print()"
      ],
      "execution_count": null,
      "outputs": []
    },
    {
      "cell_type": "markdown",
      "metadata": {
        "id": "1PBEVwUSko9x"
      },
      "source": [
        "#test"
      ]
    },
    {
      "cell_type": "code",
      "metadata": {
        "id": "b_UDTQSljFpt"
      },
      "source": [
        "answers = []\n",
        "sentences = []\n",
        "\n",
        "for i, text in enumerate(new_test_texts):\n",
        "  tokenized_sentence = tokenizer.encode(tokenized_test_texts[i])\n",
        "  #tokinized_sentence = tokenized_sentence[1:len(tokenized_sentence)-1]\n",
        "\n",
        "  #input_ids = torch.tensor([tokenized_sentence]).cuda()\n",
        "  input_ids = torch.tensor([tokenized_sentence[1:len(tokenized_sentence)-1]]).cuda()\n",
        "  with torch.no_grad():\n",
        "    output = model(input_ids)\n",
        "  label_indices = np.argmax(output[0].to('cpu').numpy(), axis=2)\n",
        "  # join bpe split tokens\n",
        "  tokens = tokenizer.convert_ids_to_tokens(input_ids.to('cpu').numpy()[0])\n",
        "\n",
        "  new_tokens, new_labels = [], []\n",
        "  for token, label_idx in zip(tokens, label_indices[0]):\n",
        "    if token.startswith(\"##\"):\n",
        "          new_tokens[-1] = new_tokens[-1] + token[2:]\n",
        "          if tag_values[label_idx]=='TOXIC':\n",
        "            new_labels[len(new_labels)-1] = 'TOXIC'\n",
        "    else:\n",
        "          new_labels.append(tag_values[label_idx])\n",
        "          new_tokens.append(token)\n",
        "\n",
        "  sentences.append(new_tokens)\n",
        "  answers.append(new_labels)"
      ],
      "execution_count": null,
      "outputs": []
    },
    {
      "cell_type": "code",
      "metadata": {
        "id": "QL0kuOS30NZR"
      },
      "source": [
        "import pickle\n",
        "\n",
        "with open('/content/drive/My Drive/semeval21/answers.pickle', 'wb') as f:\n",
        "     pickle.dump(answers, f)\n",
        "with open('/content/drive/My Drive/semeval21/sentences.pickle', 'wb') as f:\n",
        "     pickle.dump(sentences, f)\n",
        "with open('/content/drive/My Drive/semeval21/true.pickle', 'wb') as f:\n",
        "     pickle.dump(test_labels, f)"
      ],
      "execution_count": null,
      "outputs": []
    },
    {
      "cell_type": "markdown",
      "metadata": {
        "id": "_EGG-bLhDkhG"
      },
      "source": [
        "#get f1"
      ]
    },
    {
      "cell_type": "code",
      "metadata": {
        "id": "l5-vgzjgYmNR"
      },
      "source": [
        "import pickle\n",
        "\n",
        "with open('/content/drive/My Drive/semeval21/answers.pickle', 'rb') as f:\n",
        "     answers = pickle.load(f)\n",
        "with open('/content/drive/My Drive/semeval21/sentences.pickle', 'rb') as f:\n",
        "     sentences = pickle.load(f)\n",
        "with open('/content/drive/My Drive/semeval21/true.pickle', 'rb') as f:\n",
        "     test_labels = pickle.load(f)"
      ],
      "execution_count": null,
      "outputs": []
    },
    {
      "cell_type": "code",
      "metadata": {
        "id": "RhVVuE-qtbFm"
      },
      "source": [
        "spans_prediction = []\n",
        "\n",
        "for i in range(len(answers)):\n",
        "  answers[i] = answers[i][1:len(answers[i])-1]\n",
        "  sentences[i] = sentences[i][1:len(sentences[i])-1]\n",
        "\n",
        "for i, ans in enumerate(answers):\n",
        "  span = []\n",
        "  #if spans_true[i] == []:\n",
        "    #spans_prediction.append(span)\n",
        "    #continue\n",
        "  for j, a in enumerate(ans):\n",
        "    if a=='TOXIC':\n",
        "      for z in range(new_test_spans[i][j][0],new_test_spans[i][j][1]+1):\n",
        "        span.append(z)\n",
        "  spans_prediction.append(span)"
      ],
      "execution_count": null,
      "outputs": []
    },
    {
      "cell_type": "code",
      "metadata": {
        "id": "Gm83ON9MHiZc"
      },
      "source": [
        "for i in range(len(spans_prediction)):\n",
        "  if spans_prediction[i]!=[]:\n",
        "    span = []\n",
        "    span.append(spans_prediction[i][0])\n",
        "    for s in range(1, len(spans_prediction[i])):\n",
        "      #print('*',spans_prediction[i][s])\n",
        "      #print(span[len(span)-1])\n",
        "      if spans_prediction[i][s]==span[len(span)-1]+2:\n",
        "        span.append(spans_prediction[i][s]-1)\n",
        "        span.append(spans_prediction[i][s])\n",
        "      else:\n",
        "        span.append(spans_prediction[i][s])\n",
        "    spans_prediction[i]=span"
      ],
      "execution_count": null,
      "outputs": []
    },
    {
      "cell_type": "code",
      "metadata": {
        "id": "SxM89xupf7dd"
      },
      "source": [
        "spans_true = []\n",
        "\n",
        "for t in test:\n",
        "    spans_true.append(t[0])"
      ],
      "execution_count": null,
      "outputs": []
    },
    {
      "cell_type": "code",
      "metadata": {
        "id": "qzIktl4Ww_8w"
      },
      "source": [
        "import numpy as np\n",
        "f1_scores = []\n",
        "\n",
        "for i in range(len(spans_true)):\n",
        "  f1_scores.append(f1(spans_true[i], spans_prediction[i]))\n",
        "\n",
        "np.mean(np.array(f1_scores))"
      ],
      "execution_count": null,
      "outputs": []
    },
    {
      "cell_type": "code",
      "metadata": {
        "id": "iTUfiWqniC9L"
      },
      "source": [
        "with open('/content/drive/My Drive/semeval21/rs42.pickle', 'wb') as f:\n",
        "     pickle.dump(spans_prediction, f)"
      ],
      "execution_count": null,
      "outputs": []
    },
    {
      "cell_type": "markdown",
      "metadata": {
        "id": "D-IRKeQlTWKF"
      },
      "source": [
        "#get ensemble value"
      ]
    },
    {
      "cell_type": "code",
      "metadata": {
        "id": "p3fVyPs9RR_m"
      },
      "source": [
        "'''\n",
        "import pickle\n",
        "with open('/content/drive/My Drive/semeval21/rs23.pickle', 'rb') as f:\n",
        "     rs23 = pickle.load(f)\n",
        "with open('/content/drive/My Drive/semeval21/rs30.pickle', 'rb') as f:\n",
        "     rs30 = pickle.load(f)\n",
        "with open('/content/drive/My Drive/semeval21/rs42.pickle', 'rb') as f:\n",
        "     rs42 = pickle.load(f)"
      ],
      "execution_count": null,
      "outputs": []
    },
    {
      "cell_type": "code",
      "metadata": {
        "id": "tAPFtgJLReWo"
      },
      "source": [
        "'''\n",
        "final = []\n",
        "for i in range(len(rs23)):\n",
        "  a = set()\n",
        "  a.update(rs23[i])\n",
        "  a.update(rs30[i])\n",
        "  a.update(rs42[i])\n",
        "  a = list(a)\n",
        "  a.sort()\n",
        "  span = []\n",
        "  '''\n",
        "  '''\n",
        "  for el in a:\n",
        "    count = 0\n",
        "    if el in rs23[i]:\n",
        "      count+=1\n",
        "    if el in rs30[i]:\n",
        "      count+=1\n",
        "    if el in rs42[i]:\n",
        "      count+=1\n",
        "    if count>=2:\n",
        "      span.append(el)\n",
        "  '''\n",
        "  '''\n",
        "  span.extend(a)\n",
        "  final.append(span)"
      ],
      "execution_count": null,
      "outputs": []
    },
    {
      "cell_type": "code",
      "metadata": {
        "id": "Fi0biq6CWa66"
      },
      "source": [
        "'''\n",
        "for i, el in enumerate(spans_true):\n",
        "  if el==[]:\n",
        "    print(i, len(list(final[i])), final[i])"
      ],
      "execution_count": null,
      "outputs": []
    },
    {
      "cell_type": "code",
      "metadata": {
        "id": "5DMuiBuVSwe-"
      },
      "source": [
        "'''\n",
        "import numpy as np\n",
        "f1_scores = []\n",
        "\n",
        "for i in range(len(spans_true)):\n",
        "  f1_scores.append(f1(spans_true[i], final[i]))\n",
        "\n",
        "np.mean(np.array(f1_scores))"
      ],
      "execution_count": null,
      "outputs": []
    }
  ]
}